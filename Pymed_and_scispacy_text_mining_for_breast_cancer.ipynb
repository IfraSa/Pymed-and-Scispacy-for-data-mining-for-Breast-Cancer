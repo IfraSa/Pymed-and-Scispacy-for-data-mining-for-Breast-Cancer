{
  "metadata": {
    "kernelspec": {
      "language": "python",
      "display_name": "Python 3",
      "name": "python3"
    },
    "language_info": {
      "name": "python",
      "version": "3.7.12",
      "mimetype": "text/x-python",
      "codemirror_mode": {
        "name": "ipython",
        "version": 3
      },
      "pygments_lexer": "ipython3",
      "nbconvert_exporter": "python",
      "file_extension": ".py"
    },
    "colab": {
      "name": "Pymed-and-scispacy-text-mining-for-breast-cancer.ipynb",
      "provenance": [],
      "include_colab_link": true
    }
  },
  "nbformat_minor": 0,
  "nbformat": 4,
  "cells": [
    {
      "cell_type": "markdown",
      "metadata": {
        "id": "view-in-github",
        "colab_type": "text"
      },
      "source": [
        "<a href=\"https://colab.research.google.com/github/IfraSa/Pymed-and-Scispacy-for-text-mining-for-Breast-Cancer/blob/main/Pymed_and_scispacy_text_mining_for_breast_cancer.ipynb\" target=\"_parent\"><img src=\"https://colab.research.google.com/assets/colab-badge.svg\" alt=\"Open In Colab\"/></a>"
      ]
    },
    {
      "cell_type": "markdown",
      "source": [
        "Install [pymed](https://github.com/gijswobben/pymed) library to collect data from Pubmed database"
      ],
      "metadata": {
        "id": "LmNlNCBjL3Dk"
      }
    },
    {
      "cell_type": "code",
      "source": [
        "!pip install pymed"
      ],
      "metadata": {
        "execution": {
          "iopub.status.busy": "2022-07-11T11:31:02.539744Z",
          "iopub.execute_input": "2022-07-11T11:31:02.540320Z",
          "iopub.status.idle": "2022-07-11T11:31:16.631669Z",
          "shell.execute_reply.started": "2022-07-11T11:31:02.540215Z",
          "shell.execute_reply": "2022-07-11T11:31:16.629998Z"
        },
        "trusted": true,
        "id": "q2ZIkpgyL3Dv"
      },
      "execution_count": null,
      "outputs": []
    },
    {
      "cell_type": "markdown",
      "source": [
        "Import the module"
      ],
      "metadata": {
        "id": "Y4l5oKH1L3Dy"
      }
    },
    {
      "cell_type": "code",
      "source": [
        "from pymed import PubMed\n",
        "pubmed = PubMed(email=\"ifrasaifikifayat@gmail.com\")"
      ],
      "metadata": {
        "execution": {
          "iopub.status.busy": "2022-07-11T11:35:27.663377Z",
          "iopub.execute_input": "2022-07-11T11:35:27.663935Z",
          "iopub.status.idle": "2022-07-11T11:35:27.676753Z",
          "shell.execute_reply.started": "2022-07-11T11:35:27.663893Z",
          "shell.execute_reply": "2022-07-11T11:35:27.675727Z"
        },
        "trusted": true,
        "id": "HVKiEQUQL3D0"
      },
      "execution_count": null,
      "outputs": []
    },
    {
      "cell_type": "markdown",
      "source": [
        "Your query to PubMed Database with a limit to number of results"
      ],
      "metadata": {
        "id": "uiy47XjcL3D1"
      }
    },
    {
      "cell_type": "code",
      "source": [
        "query= \"breast cancer\"\n",
        "results= pubmed.query(query, max_results=50)"
      ],
      "metadata": {
        "execution": {
          "iopub.status.busy": "2022-07-11T11:36:33.046599Z",
          "iopub.execute_input": "2022-07-11T11:36:33.047036Z",
          "iopub.status.idle": "2022-07-11T11:36:33.541042Z",
          "shell.execute_reply.started": "2022-07-11T11:36:33.047001Z",
          "shell.execute_reply": "2022-07-11T11:36:33.539843Z"
        },
        "trusted": true,
        "id": "bYuUS0bqL3D2"
      },
      "execution_count": null,
      "outputs": []
    },
    {
      "cell_type": "markdown",
      "source": [
        "Create a loop for articles collection "
      ],
      "metadata": {
        "id": "y22rK1fbL3D4"
      }
    },
    {
      "cell_type": "code",
      "source": [
        "articleList= []\n",
        "for article in results:\n",
        "  articleDict = article.toDict()\n",
        "  articleList.append(articleDict)"
      ],
      "metadata": {
        "execution": {
          "iopub.status.busy": "2022-07-11T11:36:37.852355Z",
          "iopub.execute_input": "2022-07-11T11:36:37.853338Z",
          "iopub.status.idle": "2022-07-11T11:36:38.571731Z",
          "shell.execute_reply.started": "2022-07-11T11:36:37.853292Z",
          "shell.execute_reply": "2022-07-11T11:36:38.570754Z"
        },
        "trusted": true,
        "id": "BrIzXcIyL3D6"
      },
      "execution_count": null,
      "outputs": []
    },
    {
      "cell_type": "markdown",
      "source": [
        "Import them to dataframe"
      ],
      "metadata": {
        "id": "U42x8TH5L3D8"
      }
    },
    {
      "cell_type": "code",
      "source": [
        "import pandas as pd\n",
        "df= pd.DataFrame(articleList)\n",
        "df.head(50)"
      ],
      "metadata": {
        "execution": {
          "iopub.status.busy": "2022-07-11T11:36:45.542003Z",
          "iopub.execute_input": "2022-07-11T11:36:45.542482Z",
          "iopub.status.idle": "2022-07-11T11:36:45.980018Z",
          "shell.execute_reply.started": "2022-07-11T11:36:45.542446Z",
          "shell.execute_reply": "2022-07-11T11:36:45.977150Z"
        },
        "trusted": true,
        "id": "JRdNrJtLL3D9"
      },
      "execution_count": null,
      "outputs": []
    },
    {
      "cell_type": "code",
      "source": [
        "df.to_csv('breast_cancer.csv') #to save the file as .csv"
      ],
      "metadata": {
        "execution": {
          "iopub.status.busy": "2022-07-11T11:56:16.685733Z",
          "iopub.execute_input": "2022-07-11T11:56:16.686311Z",
          "iopub.status.idle": "2022-07-11T11:56:16.708656Z",
          "shell.execute_reply.started": "2022-07-11T11:56:16.686274Z",
          "shell.execute_reply": "2022-07-11T11:56:16.707554Z"
        },
        "trusted": true,
        "id": "NNn4rPCRL3D_"
      },
      "execution_count": null,
      "outputs": []
    },
    {
      "cell_type": "code",
      "source": [
        "df.info()"
      ],
      "metadata": {
        "execution": {
          "iopub.status.busy": "2022-07-11T11:37:24.126480Z",
          "iopub.execute_input": "2022-07-11T11:37:24.127589Z",
          "iopub.status.idle": "2022-07-11T11:37:24.160956Z",
          "shell.execute_reply.started": "2022-07-11T11:37:24.127536Z",
          "shell.execute_reply": "2022-07-11T11:37:24.159515Z"
        },
        "trusted": true,
        "id": "m5eME9a7L3EA"
      },
      "execution_count": null,
      "outputs": []
    },
    {
      "cell_type": "code",
      "source": [
        "len(df.index)"
      ],
      "metadata": {
        "execution": {
          "iopub.status.busy": "2022-07-11T11:51:50.985261Z",
          "iopub.execute_input": "2022-07-11T11:51:50.985736Z",
          "iopub.status.idle": "2022-07-11T11:51:50.994462Z",
          "shell.execute_reply.started": "2022-07-11T11:51:50.985696Z",
          "shell.execute_reply": "2022-07-11T11:51:50.993123Z"
        },
        "trusted": true,
        "id": "_XuwAyYML3EB"
      },
      "execution_count": null,
      "outputs": []
    },
    {
      "cell_type": "code",
      "source": [
        "df.abstract"
      ],
      "metadata": {
        "execution": {
          "iopub.status.busy": "2022-07-11T11:40:38.572155Z",
          "iopub.execute_input": "2022-07-11T11:40:38.572558Z",
          "iopub.status.idle": "2022-07-11T11:40:38.582725Z",
          "shell.execute_reply.started": "2022-07-11T11:40:38.572529Z",
          "shell.execute_reply": "2022-07-11T11:40:38.581378Z"
        },
        "trusted": true,
        "id": "HdhnXOSSL3EB"
      },
      "execution_count": null,
      "outputs": []
    },
    {
      "cell_type": "markdown",
      "source": [
        "Install the [Scispacy](https://allenai.github.io/scispacy/) package for text mining task"
      ],
      "metadata": {
        "id": "9AymUa8ZL3EC"
      }
    },
    {
      "cell_type": "code",
      "source": [
        "!pip install scispacy"
      ],
      "metadata": {
        "execution": {
          "iopub.status.busy": "2022-07-11T11:45:53.454846Z",
          "iopub.execute_input": "2022-07-11T11:45:53.455397Z",
          "iopub.status.idle": "2022-07-11T11:46:20.533864Z",
          "shell.execute_reply.started": "2022-07-11T11:45:53.455353Z",
          "shell.execute_reply": "2022-07-11T11:46:20.532660Z"
        },
        "trusted": true,
        "id": "1FI9I1lTL3EC"
      },
      "execution_count": null,
      "outputs": []
    },
    {
      "cell_type": "markdown",
      "source": [
        "Install it's 'en_ner_bc5cdr_md' model trained on BC5CDR corpus for NER identification and import the modules"
      ],
      "metadata": {
        "id": "c6SR9ClzL3EC"
      }
    },
    {
      "cell_type": "code",
      "source": [
        "!pip install 'https://s3-us-west-2.amazonaws.com/ai2-s2-scispacy/releases/v0.4.0/en_ner_bc5cdr_md-0.4.0.tar.gz'"
      ],
      "metadata": {
        "execution": {
          "iopub.status.busy": "2022-07-11T11:46:26.222766Z",
          "iopub.execute_input": "2022-07-11T11:46:26.223263Z",
          "iopub.status.idle": "2022-07-11T11:47:09.696530Z",
          "shell.execute_reply.started": "2022-07-11T11:46:26.223224Z",
          "shell.execute_reply": "2022-07-11T11:47:09.694432Z"
        },
        "trusted": true,
        "id": "jmXxhfcgL3ED"
      },
      "execution_count": null,
      "outputs": []
    },
    {
      "cell_type": "markdown",
      "source": [
        "Loading the model and importing the packages"
      ],
      "metadata": {
        "id": "lrwyKp33L3EE"
      }
    },
    {
      "cell_type": "code",
      "source": [
        "import scispacy\n",
        "import spacy\n",
        "nlp = spacy.load(\"en_ner_bc5cdr_md\")"
      ],
      "metadata": {
        "execution": {
          "iopub.status.busy": "2022-07-11T11:47:34.237747Z",
          "iopub.execute_input": "2022-07-11T11:47:34.238318Z",
          "iopub.status.idle": "2022-07-11T11:47:54.706714Z",
          "shell.execute_reply.started": "2022-07-11T11:47:34.238269Z",
          "shell.execute_reply": "2022-07-11T11:47:54.705402Z"
        },
        "trusted": true,
        "id": "5J7Io_TQL3EE"
      },
      "execution_count": null,
      "outputs": []
    },
    {
      "cell_type": "markdown",
      "source": [
        "Creating the doc object with abstract index 0 (first abstract)"
      ],
      "metadata": {
        "id": "ZHkJ-q1NL3EE"
      }
    },
    {
      "cell_type": "code",
      "source": [
        "doc = nlp(df.abstract[0])"
      ],
      "metadata": {
        "execution": {
          "iopub.status.busy": "2022-07-11T11:52:34.401427Z",
          "iopub.execute_input": "2022-07-11T11:52:34.401977Z",
          "iopub.status.idle": "2022-07-11T11:52:34.517433Z",
          "shell.execute_reply.started": "2022-07-11T11:52:34.401929Z",
          "shell.execute_reply": "2022-07-11T11:52:34.516163Z"
        },
        "trusted": true,
        "id": "G9oawIP-L3EF"
      },
      "execution_count": null,
      "outputs": []
    },
    {
      "cell_type": "markdown",
      "source": [
        "Use displacy visualiser for NER visualization in abstract for index 0\n"
      ],
      "metadata": {
        "id": "-dOZ8iTiL3EF"
      }
    },
    {
      "cell_type": "code",
      "source": [
        "from spacy import displacy\n",
        "spacy.displacy.render(doc, style=\"ent\")"
      ],
      "metadata": {
        "execution": {
          "iopub.status.busy": "2022-07-11T11:52:38.690295Z",
          "iopub.execute_input": "2022-07-11T11:52:38.690787Z",
          "iopub.status.idle": "2022-07-11T11:52:38.701177Z",
          "shell.execute_reply.started": "2022-07-11T11:52:38.690751Z",
          "shell.execute_reply": "2022-07-11T11:52:38.699640Z"
        },
        "trusted": true,
        "id": "pUOh60huL3EG"
      },
      "execution_count": null,
      "outputs": []
    },
    {
      "cell_type": "markdown",
      "source": [
        "Use displacy visualiser for Dependency Parser visualization in abstract for index 0"
      ],
      "metadata": {
        "id": "NKbep9GmL3EG"
      }
    },
    {
      "cell_type": "code",
      "source": [
        "\n",
        "spacy.displacy.render(doc, style=\"dep\")"
      ],
      "metadata": {
        "execution": {
          "iopub.status.busy": "2022-07-11T11:53:34.426153Z",
          "iopub.execute_input": "2022-07-11T11:53:34.426643Z",
          "iopub.status.idle": "2022-07-11T11:53:35.999948Z",
          "shell.execute_reply.started": "2022-07-11T11:53:34.426607Z",
          "shell.execute_reply": "2022-07-11T11:53:35.999145Z"
        },
        "trusted": true,
        "id": "cq1bbwg_L3EH"
      },
      "execution_count": null,
      "outputs": []
    },
    {
      "cell_type": "code",
      "source": [
        "print(doc.ents)"
      ],
      "metadata": {
        "execution": {
          "iopub.status.busy": "2022-07-11T11:54:03.213752Z",
          "iopub.execute_input": "2022-07-11T11:54:03.214185Z",
          "iopub.status.idle": "2022-07-11T11:54:03.219546Z",
          "shell.execute_reply.started": "2022-07-11T11:54:03.214153Z",
          "shell.execute_reply": "2022-07-11T11:54:03.218774Z"
        },
        "trusted": true,
        "id": "D2m-dE1vL3EH"
      },
      "execution_count": null,
      "outputs": []
    },
    {
      "cell_type": "markdown",
      "source": [
        "**Hope you like it and thanks for viewing!**"
      ],
      "metadata": {
        "id": "1OyVzKDTL3EH"
      }
    },
    {
      "cell_type": "markdown",
      "source": [
        "**References**\n",
        "1. https://allenai.github.io/scispacy/\n",
        "2. https://towardsdatascience.com/structured-natural-language-processing-with-pandas-and-spacy-7089e66d2b10\n",
        "3. https://gbnegrini.com/post/biomedical-text-nlp-scispacy-named-entity-recognition-medical-records/\n",
        "4. https://github.com/gijswobben/pymed\n",
        "5. https://www.packtpub.com/product/machine-learning-in-biotechnology-and-life-sciences/9781801811910\n"
      ],
      "metadata": {
        "id": "7HfL7GQTL3EI"
      }
    }
  ]
}